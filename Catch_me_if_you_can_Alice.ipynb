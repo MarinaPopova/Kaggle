{
 "cells": [
  {
   "cell_type": "markdown",
   "metadata": {},
   "source": [
    "# <center> Задача по идентификации пользователя с именем Alice. https://www.kaggle.com/c/catch-me-if-you-can-intruder-detection-through-webpage-session-tracking2/overview  \n",
    "\n",
    "Цель проекта - определить по последовательности нескольких веб-сайтов, Alice посещала их или кто-то другой.  \n",
    "Задачи проекта:  \n",
    "- проанализировать исходные данные;\n",
    "- предобработать исходные данные;\n",
    "- построить алгоритм, который будет анализировать последовательность из нескольких веб-сайтов, посещенных подряд одним и тем же человеком."
   ]
  },
  {
   "cell_type": "code",
   "execution_count": 1,
   "metadata": {},
   "outputs": [],
   "source": [
    "from __future__ import division, print_function\n",
    "import warnings\n",
    "warnings.filterwarnings('ignore')\n",
    "import pickle\n",
    "import numpy as np\n",
    "import pandas as pd\n",
    "from scipy.sparse import csr_matrix\n",
    "from sklearn.linear_model import SGDClassifier\n",
    "from sklearn.metrics import roc_auc_score\n",
    "%matplotlib inline\n",
    "from matplotlib import pyplot as plt\n",
    "import seaborn as sns\n",
    "from sklearn.linear_model import LogisticRegression\n",
    "import scipy.sparse as sp\n",
    "from sklearn.model_selection import cross_val_score, TimeSeriesSplit\n",
    "from scipy.stats import ttest_rel\n",
    "from sklearn.preprocessing import MinMaxScaler \n",
    "from sklearn.feature_selection import SelectFromModel"
   ]
  },
  {
   "cell_type": "code",
   "execution_count": 2,
   "metadata": {},
   "outputs": [],
   "source": [
    "def write_to_submission_file(predicted_labels, out_file,\n",
    "                             target='target', index_label=\"session_id\"):\n",
    "    predicted_df = pd.DataFrame(predicted_labels,\n",
    "                                index = np.arange(1, predicted_labels.shape[0] + 1),\n",
    "                                columns=[target])\n",
    "    predicted_df.to_csv(out_file, index_label=index_label)"
   ]
  },
  {
   "cell_type": "markdown",
   "metadata": {},
   "source": [
    "Для начала загрузим исходные данные и визуально проанализируем их:"
   ]
  },
  {
   "cell_type": "code",
   "execution_count": 3,
   "metadata": {},
   "outputs": [],
   "source": [
    "times = ['time%d' % i for i in range(1, 11)]\n",
    "train_df = pd.read_csv('train_sessions.csv', index_col='session_id', parse_dates = times)\n",
    "test_df = pd.read_csv('test_sessions.csv', index_col='session_id', parse_dates = times)"
   ]
  },
  {
   "cell_type": "code",
   "execution_count": 4,
   "metadata": {},
   "outputs": [
    {
     "data": {
      "text/html": [
       "<div>\n",
       "<style scoped>\n",
       "    .dataframe tbody tr th:only-of-type {\n",
       "        vertical-align: middle;\n",
       "    }\n",
       "\n",
       "    .dataframe tbody tr th {\n",
       "        vertical-align: top;\n",
       "    }\n",
       "\n",
       "    .dataframe thead th {\n",
       "        text-align: right;\n",
       "    }\n",
       "</style>\n",
       "<table border=\"1\" class=\"dataframe\">\n",
       "  <thead>\n",
       "    <tr style=\"text-align: right;\">\n",
       "      <th></th>\n",
       "      <th>site1</th>\n",
       "      <th>time1</th>\n",
       "      <th>site2</th>\n",
       "      <th>time2</th>\n",
       "      <th>site3</th>\n",
       "      <th>time3</th>\n",
       "      <th>site4</th>\n",
       "      <th>time4</th>\n",
       "      <th>site5</th>\n",
       "      <th>time5</th>\n",
       "      <th>...</th>\n",
       "      <th>time6</th>\n",
       "      <th>site7</th>\n",
       "      <th>time7</th>\n",
       "      <th>site8</th>\n",
       "      <th>time8</th>\n",
       "      <th>site9</th>\n",
       "      <th>time9</th>\n",
       "      <th>site10</th>\n",
       "      <th>time10</th>\n",
       "      <th>target</th>\n",
       "    </tr>\n",
       "    <tr>\n",
       "      <th>session_id</th>\n",
       "      <th></th>\n",
       "      <th></th>\n",
       "      <th></th>\n",
       "      <th></th>\n",
       "      <th></th>\n",
       "      <th></th>\n",
       "      <th></th>\n",
       "      <th></th>\n",
       "      <th></th>\n",
       "      <th></th>\n",
       "      <th></th>\n",
       "      <th></th>\n",
       "      <th></th>\n",
       "      <th></th>\n",
       "      <th></th>\n",
       "      <th></th>\n",
       "      <th></th>\n",
       "      <th></th>\n",
       "      <th></th>\n",
       "      <th></th>\n",
       "      <th></th>\n",
       "    </tr>\n",
       "  </thead>\n",
       "  <tbody>\n",
       "    <tr>\n",
       "      <th>1</th>\n",
       "      <td>718</td>\n",
       "      <td>2014-02-20 10:02:45</td>\n",
       "      <td>NaN</td>\n",
       "      <td>NaT</td>\n",
       "      <td>NaN</td>\n",
       "      <td>NaT</td>\n",
       "      <td>NaN</td>\n",
       "      <td>NaT</td>\n",
       "      <td>NaN</td>\n",
       "      <td>NaT</td>\n",
       "      <td>...</td>\n",
       "      <td>NaT</td>\n",
       "      <td>NaN</td>\n",
       "      <td>NaT</td>\n",
       "      <td>NaN</td>\n",
       "      <td>NaT</td>\n",
       "      <td>NaN</td>\n",
       "      <td>NaT</td>\n",
       "      <td>NaN</td>\n",
       "      <td>NaT</td>\n",
       "      <td>0</td>\n",
       "    </tr>\n",
       "    <tr>\n",
       "      <th>2</th>\n",
       "      <td>890</td>\n",
       "      <td>2014-02-22 11:19:50</td>\n",
       "      <td>941.0</td>\n",
       "      <td>2014-02-22 11:19:50</td>\n",
       "      <td>3847.0</td>\n",
       "      <td>2014-02-22 11:19:51</td>\n",
       "      <td>941.0</td>\n",
       "      <td>2014-02-22 11:19:51</td>\n",
       "      <td>942.0</td>\n",
       "      <td>2014-02-22 11:19:51</td>\n",
       "      <td>...</td>\n",
       "      <td>2014-02-22 11:19:51</td>\n",
       "      <td>3847.0</td>\n",
       "      <td>2014-02-22 11:19:52</td>\n",
       "      <td>3846.0</td>\n",
       "      <td>2014-02-22 11:19:52</td>\n",
       "      <td>1516.0</td>\n",
       "      <td>2014-02-22 11:20:15</td>\n",
       "      <td>1518.0</td>\n",
       "      <td>2014-02-22 11:20:16</td>\n",
       "      <td>0</td>\n",
       "    </tr>\n",
       "    <tr>\n",
       "      <th>3</th>\n",
       "      <td>14769</td>\n",
       "      <td>2013-12-16 16:40:17</td>\n",
       "      <td>39.0</td>\n",
       "      <td>2013-12-16 16:40:18</td>\n",
       "      <td>14768.0</td>\n",
       "      <td>2013-12-16 16:40:19</td>\n",
       "      <td>14769.0</td>\n",
       "      <td>2013-12-16 16:40:19</td>\n",
       "      <td>37.0</td>\n",
       "      <td>2013-12-16 16:40:19</td>\n",
       "      <td>...</td>\n",
       "      <td>2013-12-16 16:40:19</td>\n",
       "      <td>14768.0</td>\n",
       "      <td>2013-12-16 16:40:20</td>\n",
       "      <td>14768.0</td>\n",
       "      <td>2013-12-16 16:40:21</td>\n",
       "      <td>14768.0</td>\n",
       "      <td>2013-12-16 16:40:22</td>\n",
       "      <td>14768.0</td>\n",
       "      <td>2013-12-16 16:40:24</td>\n",
       "      <td>0</td>\n",
       "    </tr>\n",
       "    <tr>\n",
       "      <th>4</th>\n",
       "      <td>782</td>\n",
       "      <td>2014-03-28 10:52:12</td>\n",
       "      <td>782.0</td>\n",
       "      <td>2014-03-28 10:52:42</td>\n",
       "      <td>782.0</td>\n",
       "      <td>2014-03-28 10:53:12</td>\n",
       "      <td>782.0</td>\n",
       "      <td>2014-03-28 10:53:42</td>\n",
       "      <td>782.0</td>\n",
       "      <td>2014-03-28 10:54:12</td>\n",
       "      <td>...</td>\n",
       "      <td>2014-03-28 10:54:42</td>\n",
       "      <td>782.0</td>\n",
       "      <td>2014-03-28 10:55:12</td>\n",
       "      <td>782.0</td>\n",
       "      <td>2014-03-28 10:55:42</td>\n",
       "      <td>782.0</td>\n",
       "      <td>2014-03-28 10:56:12</td>\n",
       "      <td>782.0</td>\n",
       "      <td>2014-03-28 10:56:42</td>\n",
       "      <td>0</td>\n",
       "    </tr>\n",
       "    <tr>\n",
       "      <th>5</th>\n",
       "      <td>22</td>\n",
       "      <td>2014-02-28 10:53:05</td>\n",
       "      <td>177.0</td>\n",
       "      <td>2014-02-28 10:55:22</td>\n",
       "      <td>175.0</td>\n",
       "      <td>2014-02-28 10:55:22</td>\n",
       "      <td>178.0</td>\n",
       "      <td>2014-02-28 10:55:23</td>\n",
       "      <td>177.0</td>\n",
       "      <td>2014-02-28 10:55:23</td>\n",
       "      <td>...</td>\n",
       "      <td>2014-02-28 10:55:59</td>\n",
       "      <td>175.0</td>\n",
       "      <td>2014-02-28 10:55:59</td>\n",
       "      <td>177.0</td>\n",
       "      <td>2014-02-28 10:55:59</td>\n",
       "      <td>177.0</td>\n",
       "      <td>2014-02-28 10:57:06</td>\n",
       "      <td>178.0</td>\n",
       "      <td>2014-02-28 10:57:11</td>\n",
       "      <td>0</td>\n",
       "    </tr>\n",
       "  </tbody>\n",
       "</table>\n",
       "<p>5 rows × 21 columns</p>\n",
       "</div>"
      ],
      "text/plain": [
       "            site1               time1  site2               time2    site3  \\\n",
       "session_id                                                                  \n",
       "1             718 2014-02-20 10:02:45    NaN                 NaT      NaN   \n",
       "2             890 2014-02-22 11:19:50  941.0 2014-02-22 11:19:50   3847.0   \n",
       "3           14769 2013-12-16 16:40:17   39.0 2013-12-16 16:40:18  14768.0   \n",
       "4             782 2014-03-28 10:52:12  782.0 2014-03-28 10:52:42    782.0   \n",
       "5              22 2014-02-28 10:53:05  177.0 2014-02-28 10:55:22    175.0   \n",
       "\n",
       "                         time3    site4               time4  site5  \\\n",
       "session_id                                                           \n",
       "1                          NaT      NaN                 NaT    NaN   \n",
       "2          2014-02-22 11:19:51    941.0 2014-02-22 11:19:51  942.0   \n",
       "3          2013-12-16 16:40:19  14769.0 2013-12-16 16:40:19   37.0   \n",
       "4          2014-03-28 10:53:12    782.0 2014-03-28 10:53:42  782.0   \n",
       "5          2014-02-28 10:55:22    178.0 2014-02-28 10:55:23  177.0   \n",
       "\n",
       "                         time5  ...               time6    site7  \\\n",
       "session_id                      ...                                \n",
       "1                          NaT  ...                 NaT      NaN   \n",
       "2          2014-02-22 11:19:51  ... 2014-02-22 11:19:51   3847.0   \n",
       "3          2013-12-16 16:40:19  ... 2013-12-16 16:40:19  14768.0   \n",
       "4          2014-03-28 10:54:12  ... 2014-03-28 10:54:42    782.0   \n",
       "5          2014-02-28 10:55:23  ... 2014-02-28 10:55:59    175.0   \n",
       "\n",
       "                         time7    site8               time8    site9  \\\n",
       "session_id                                                             \n",
       "1                          NaT      NaN                 NaT      NaN   \n",
       "2          2014-02-22 11:19:52   3846.0 2014-02-22 11:19:52   1516.0   \n",
       "3          2013-12-16 16:40:20  14768.0 2013-12-16 16:40:21  14768.0   \n",
       "4          2014-03-28 10:55:12    782.0 2014-03-28 10:55:42    782.0   \n",
       "5          2014-02-28 10:55:59    177.0 2014-02-28 10:55:59    177.0   \n",
       "\n",
       "                         time9   site10              time10 target  \n",
       "session_id                                                          \n",
       "1                          NaT      NaN                 NaT      0  \n",
       "2          2014-02-22 11:20:15   1518.0 2014-02-22 11:20:16      0  \n",
       "3          2013-12-16 16:40:22  14768.0 2013-12-16 16:40:24      0  \n",
       "4          2014-03-28 10:56:12    782.0 2014-03-28 10:56:42      0  \n",
       "5          2014-02-28 10:57:06    178.0 2014-02-28 10:57:11      0  \n",
       "\n",
       "[5 rows x 21 columns]"
      ]
     },
     "execution_count": 4,
     "metadata": {},
     "output_type": "execute_result"
    }
   ],
   "source": [
    "train_df.head()"
   ]
  },
  {
   "cell_type": "code",
   "execution_count": 5,
   "metadata": {},
   "outputs": [
    {
     "name": "stdout",
     "output_type": "stream",
     "text": [
      "<class 'pandas.core.frame.DataFrame'>\n",
      "Int64Index: 253561 entries, 1 to 253561\n",
      "Data columns (total 21 columns):\n",
      " #   Column  Non-Null Count   Dtype         \n",
      "---  ------  --------------   -----         \n",
      " 0   site1   253561 non-null  int64         \n",
      " 1   time1   253561 non-null  datetime64[ns]\n",
      " 2   site2   250098 non-null  float64       \n",
      " 3   time2   250098 non-null  datetime64[ns]\n",
      " 4   site3   246919 non-null  float64       \n",
      " 5   time3   246919 non-null  datetime64[ns]\n",
      " 6   site4   244321 non-null  float64       \n",
      " 7   time4   244321 non-null  datetime64[ns]\n",
      " 8   site5   241829 non-null  float64       \n",
      " 9   time5   241829 non-null  datetime64[ns]\n",
      " 10  site6   239495 non-null  float64       \n",
      " 11  time6   239495 non-null  datetime64[ns]\n",
      " 12  site7   237297 non-null  float64       \n",
      " 13  time7   237297 non-null  datetime64[ns]\n",
      " 14  site8   235224 non-null  float64       \n",
      " 15  time8   235224 non-null  datetime64[ns]\n",
      " 16  site9   233084 non-null  float64       \n",
      " 17  time9   233084 non-null  datetime64[ns]\n",
      " 18  site10  231052 non-null  float64       \n",
      " 19  time10  231052 non-null  datetime64[ns]\n",
      " 20  target  253561 non-null  int64         \n",
      "dtypes: datetime64[ns](10), float64(9), int64(2)\n",
      "memory usage: 42.6 MB\n"
     ]
    }
   ],
   "source": [
    "train_df.info()"
   ]
  },
  {
   "cell_type": "markdown",
   "metadata": {},
   "source": [
    "В обучающей выборке видим следующие признаки:\n",
    "\n",
    "- site1 – индекс первого посещенного сайта в сессии\n",
    "- time1 – время посещения первого сайта в сессии\n",
    "- ...\n",
    "- site10 – индекс 10-го посещенного сайта в сессии\n",
    "- time10 – время посещения 10-го сайта в сессии\n",
    "- user_id – ID пользователя\n",
    "Сессии пользователей выделены таким образом, что они не могут быть длинее получаса или 10 сайтов. То есть сессия считается оконченной либо когда пользователь посетил 10 сайтов подряд, либо когда сессия заняла по времени более 30 минут."
   ]
  },
  {
   "cell_type": "code",
   "execution_count": 6,
   "metadata": {},
   "outputs": [
    {
     "data": {
      "text/plain": [
       "0    251264\n",
       "1      2297\n",
       "Name: target, dtype: int64"
      ]
     },
     "execution_count": 6,
     "metadata": {},
     "output_type": "execute_result"
    }
   ],
   "source": [
    "train_df['target'].value_counts()"
   ]
  },
  {
   "cell_type": "markdown",
   "metadata": {},
   "source": [
    "В обучающей выборке – 2297 сессий одного пользователя (Alice) и 251264 сессий – других пользователей, не Alice. Дисбаланс классов очень сильный, и смотреть на долю верных ответов (accuracy) непоказательно. Поэтому в качестве метрики будем использовать ROC-AUC"
   ]
  },
  {
   "cell_type": "markdown",
   "metadata": {},
   "source": [
    "Объединим тестовую и обучающую выборки и приведем их к разреженному виду:"
   ]
  },
  {
   "cell_type": "code",
   "execution_count": 7,
   "metadata": {},
   "outputs": [],
   "source": [
    "train_test_df = pd.concat([train_df, test_df])\n",
    "train_test_df_sites = train_test_df[['site%d' % i for i in range(1, 11)]].fillna(0).astype('int')"
   ]
  },
  {
   "cell_type": "code",
   "execution_count": 8,
   "metadata": {},
   "outputs": [],
   "source": [
    "def matrix(d):\n",
    "    X = d.values\n",
    "    indptr = [0]\n",
    "    indices = []\n",
    "    data = []\n",
    "    site = {}\n",
    "    for x in X:\n",
    "        for term in x:\n",
    "            index = site.setdefault(term, term)\n",
    "            indices.append(index)\n",
    "            data.append(1)\n",
    "        indptr.append(len(indices))\n",
    "    return csr_matrix((data, indices, indptr), dtype=int)[:,1:]"
   ]
  },
  {
   "cell_type": "code",
   "execution_count": 9,
   "metadata": {},
   "outputs": [],
   "source": [
    "train_test_sparse = (matrix(train_test_df_sites))\n",
    "X_train_sparse = train_test_sparse[:train_df.shape[0],:]\n",
    "X_test_sparse = train_test_sparse[train_df.shape[0]:,:]\n",
    "y = train_df['target']"
   ]
  },
  {
   "cell_type": "markdown",
   "metadata": {},
   "source": [
    "Из исходных данных обучающей выборки веделим новые признаки: количество уникальных сайтов в выборке, день недели, час, месяц и год час начала выборки, а также длительность сессии; и посмотрим как они распределены для Alice и остальных."
   ]
  },
  {
   "cell_type": "code",
   "execution_count": 10,
   "metadata": {},
   "outputs": [],
   "source": [
    "def prepare_set_with_fe(X, y = 0):\n",
    "    df = pd.DataFrame()\n",
    "    sites = X[['site%d' % i for i in range(1, 11)]].fillna(0).astype('int')\n",
    "    sites = sites.values\n",
    "    df['num_unique'] = [len(np.unique(sites[i]))-1 if 0 in np.unique(sites[i])\n",
    "                        else len(np.unique(sites[i])) for i in range(len(sites))]\n",
    "    df['day_of_week'] = X['time1'].reset_index(drop = True).dt.dayofweek\n",
    "    df['hour'] = X['time1'].reset_index(drop = True).dt.hour\n",
    "    df['day'] = X['time1'].reset_index(drop = True).dt.day\n",
    "    df['month'] = X['time1'].reset_index(drop = True).dt.month\n",
    "    df['year'] = X['time1'].reset_index(drop = True).dt.year\n",
    "    df['dayofyear'] = X['time1'].reset_index(drop = True).dt.dayofyear\n",
    "    duration = []\n",
    "    for k in range(1, X.shape[0]+1):\n",
    "        for i in range(10, 0, -1):\n",
    "            if X['time'+str(i)][k] == X['time'+str(i)][k]:\n",
    "                duration.append(X['time%d' % i][k] - X['time1'][k])\n",
    "                break\n",
    "    df['duration'] = duration\n",
    "    df['duration'] = df['duration'].dt.total_seconds().astype('int')\n",
    "    if type(y) != int:\n",
    "        df['target'] = y.reset_index(drop = True)\n",
    "    return df"
   ]
  },
  {
   "cell_type": "code",
   "execution_count": 11,
   "metadata": {},
   "outputs": [],
   "source": [
    "train_new_features = prepare_set_with_fe(train_df, y)"
   ]
  },
  {
   "cell_type": "code",
   "execution_count": 12,
   "metadata": {},
   "outputs": [
    {
     "data": {
      "image/png": "[encoded data removed]",
      "text/plain": [
       "<Figure size 720x720 with 2 Axes>"
      ]
     },
     "metadata": {
      "needs_background": "light"
     },
     "output_type": "display_data"
    }
   ],
   "source": [
    "fig, axes = plt.subplots(2, figsize=(10, 10))\n",
    "\n",
    "for idx, (user, sub_df) in  enumerate(train_new_features.groupby(train_new_features['target'])): \n",
    "    axes[idx].hist(sub_df['num_unique'],bins = 10, range=(-0.5,9.5), align='mid', rwidth = 0.9)\n",
    "    axes[idx].legend([user])\n",
    "    axes[idx].set_xlabel('Количество уникальных сайтов')\n",
    "    axes[idx].set_ylabel('Число сессий')\n",
    "    axes[idx].set_xticks(range(1, 11))"
   ]
  },
  {
   "cell_type": "markdown",
   "metadata": {},
   "source": [
    "И Alice, и остальные пользователи чаще посещают по семь различных сайтов за сессию."
   ]
  },
  {
   "cell_type": "code",
   "execution_count": 13,
   "metadata": {},
   "outputs": [
    {
     "data": {
      "image/png": "[encoded data removed]",
      "text/plain": [
       "<Figure size 720x720 with 2 Axes>"
      ]
     },
     "metadata": {
      "needs_background": "light"
     },
     "output_type": "display_data"
    }
   ],
   "source": [
    "fig, axes = plt.subplots(2, figsize=(10, 10))\n",
    "\n",
    "for idx, (user, sub_df) in  enumerate(train_new_features.groupby(train_new_features['target'])): \n",
    "    axes[idx].hist(sub_df['day_of_week'], bins = 7, range=(-0.5,6.5), align='mid', rwidth = 0.9)\n",
    "    axes[idx].legend([user])\n",
    "    axes[idx].set_xlabel('Day of week')\n",
    "    axes[idx].set_ylabel('Число сессий')\n",
    "    axes[idx].set_xticks(range(7))\n",
    "    axes[idx].set_xticklabels(['Пн', 'Вт', 'Ср', 'Чт', 'Пт', 'Сб', 'Вс'])"
   ]
  },
  {
   "cell_type": "markdown",
   "metadata": {},
   "source": [
    "\n",
    "Alice чаще пользуется интернетом по понедельникам и совсем не заходит в воскресенье. В тоже время остальные пользователи чаще сидят в интернете по средам."
   ]
  },
  {
   "cell_type": "code",
   "execution_count": 14,
   "metadata": {},
   "outputs": [
    {
     "data": {
      "image/png": "[encoded data removed]",
      "text/plain": [
       "<Figure size 720x720 with 2 Axes>"
      ]
     },
     "metadata": {
      "needs_background": "light"
     },
     "output_type": "display_data"
    }
   ],
   "source": [
    "fig, axes = plt.subplots(2, figsize=(10, 10))\n",
    "\n",
    "for idx, (user, sub_df) in  enumerate(train_new_features.groupby(train_new_features['target'])): \n",
    "    axes[idx].hist(sub_df['hour'],bins = 17, range=(6.5,23.5), align='mid', rwidth = 0.9)\n",
    "    axes[idx].legend([user])\n",
    "    axes[idx].set_xlabel('Час начала сессии')\n",
    "    axes[idx].set_ylabel('Число сессий')\n",
    "    axes[idx].set_xticks(range(7, 25))"
   ]
  },
  {
   "cell_type": "markdown",
   "metadata": {},
   "source": [
    "Alice чаще всего сидит в интернете в промежуток от 16 до 18 часов, и совесм не использует интренет после 19. Остальные пользователи заходят в интернет чаще с 9 до 12 часов"
   ]
  },
  {
   "cell_type": "code",
   "execution_count": 15,
   "metadata": {},
   "outputs": [
    {
     "data": {
      "image/png": "[encoded data removed]",
      "text/plain": [
       "<Figure size 720x720 with 2 Axes>"
      ]
     },
     "metadata": {
      "needs_background": "light"
     },
     "output_type": "display_data"
    }
   ],
   "source": [
    "fig, axes = plt.subplots(2, figsize=(10, 10))\n",
    "\n",
    "for idx, (user, sub_df) in  enumerate(train_new_features.groupby(train_new_features['target'])): \n",
    "    axes[idx].hist(sub_df['month'],bins = 12, range=(0.5,12.5), align='mid', rwidth = 0.9)\n",
    "    axes[idx].legend([user])\n",
    "    axes[idx].set_xlabel('Месяц начала сессии')\n",
    "    axes[idx].set_ylabel('Число сессий')\n",
    "    axes[idx].set_xticks(range(1, 13))\n",
    "    axes[idx].set_xticklabels(['Янв', 'Фев', 'Март', 'Апр', 'Май', 'Июнь', 'Июль', 'Авг', 'Сент', \\\n",
    "                               'Окт', 'Ноя', 'Дек'])"
   ]
  },
  {
   "cell_type": "markdown",
   "metadata": {},
   "source": [
    "Alice чаще всего сидела в интернете в феврале и ноябре, совсем не заходила летом и в мае. Остальные пользователи чаще посещали интернет в феврале и марте, совсем не посещали в июле."
   ]
  },
  {
   "cell_type": "markdown",
   "metadata": {},
   "source": [
    "Добавим новые признаки к тестовой выборке и объединим ее с обучающей"
   ]
  },
  {
   "cell_type": "code",
   "execution_count": 16,
   "metadata": {},
   "outputs": [],
   "source": [
    "test_new_features = prepare_set_with_fe(test_df)"
   ]
  },
  {
   "cell_type": "code",
   "execution_count": 17,
   "metadata": {},
   "outputs": [],
   "source": [
    "train_test_df_new_features = pd.concat([train_new_features.drop(['target'],  axis='columns'), test_new_features])\n",
    "train_test_df_new_features = train_test_df_new_features.reset_index(drop = True)"
   ]
  },
  {
   "cell_type": "code",
   "execution_count": 18,
   "metadata": {},
   "outputs": [],
   "source": [
    "def hour(df):\n",
    "    df_sparse = pd.DataFrame()\n",
    "    hour = df['hour']\n",
    "    df_sparse['morning'] = ((hour >= 7) & (hour <= 11)).astype(int)\n",
    "    df_sparse['afternoon'] = ((hour >= 12) & (hour <= 18)).astype(int)\n",
    "    df_sparse['evening'] = ((hour >= 19) & (hour <= 23)).astype(int)\n",
    "    df_sparse['nigth'] = ((hour >= 0) | (hour <= 6)).astype(int)\n",
    "    return df_sparse"
   ]
  },
  {
   "cell_type": "code",
   "execution_count": 19,
   "metadata": {},
   "outputs": [],
   "source": [
    "hour_X = hour(train_test_df_new_features)"
   ]
  },
  {
   "cell_type": "code",
   "execution_count": 20,
   "metadata": {},
   "outputs": [
    {
     "data": {
      "text/html": [
       "<div>\n",
       "<style scoped>\n",
       "    .dataframe tbody tr th:only-of-type {\n",
       "        vertical-align: middle;\n",
       "    }\n",
       "\n",
       "    .dataframe tbody tr th {\n",
       "        vertical-align: top;\n",
       "    }\n",
       "\n",
       "    .dataframe thead th {\n",
       "        text-align: right;\n",
       "    }\n",
       "</style>\n",
       "<table border=\"1\" class=\"dataframe\">\n",
       "  <thead>\n",
       "    <tr style=\"text-align: right;\">\n",
       "      <th></th>\n",
       "      <th>num_unique</th>\n",
       "      <th>day_of_week</th>\n",
       "      <th>hour</th>\n",
       "      <th>day</th>\n",
       "      <th>month</th>\n",
       "      <th>year</th>\n",
       "      <th>dayofyear</th>\n",
       "      <th>duration</th>\n",
       "    </tr>\n",
       "  </thead>\n",
       "  <tbody>\n",
       "    <tr>\n",
       "      <th>0</th>\n",
       "      <td>1</td>\n",
       "      <td>3</td>\n",
       "      <td>10</td>\n",
       "      <td>20</td>\n",
       "      <td>2</td>\n",
       "      <td>2014</td>\n",
       "      <td>51</td>\n",
       "      <td>0</td>\n",
       "    </tr>\n",
       "    <tr>\n",
       "      <th>1</th>\n",
       "      <td>7</td>\n",
       "      <td>5</td>\n",
       "      <td>11</td>\n",
       "      <td>22</td>\n",
       "      <td>2</td>\n",
       "      <td>2014</td>\n",
       "      <td>53</td>\n",
       "      <td>26</td>\n",
       "    </tr>\n",
       "    <tr>\n",
       "      <th>2</th>\n",
       "      <td>4</td>\n",
       "      <td>0</td>\n",
       "      <td>16</td>\n",
       "      <td>16</td>\n",
       "      <td>12</td>\n",
       "      <td>2013</td>\n",
       "      <td>350</td>\n",
       "      <td>7</td>\n",
       "    </tr>\n",
       "    <tr>\n",
       "      <th>3</th>\n",
       "      <td>1</td>\n",
       "      <td>4</td>\n",
       "      <td>10</td>\n",
       "      <td>28</td>\n",
       "      <td>3</td>\n",
       "      <td>2014</td>\n",
       "      <td>87</td>\n",
       "      <td>270</td>\n",
       "    </tr>\n",
       "    <tr>\n",
       "      <th>4</th>\n",
       "      <td>4</td>\n",
       "      <td>4</td>\n",
       "      <td>10</td>\n",
       "      <td>28</td>\n",
       "      <td>2</td>\n",
       "      <td>2014</td>\n",
       "      <td>59</td>\n",
       "      <td>246</td>\n",
       "    </tr>\n",
       "    <tr>\n",
       "      <th>...</th>\n",
       "      <td>...</td>\n",
       "      <td>...</td>\n",
       "      <td>...</td>\n",
       "      <td>...</td>\n",
       "      <td>...</td>\n",
       "      <td>...</td>\n",
       "      <td>...</td>\n",
       "      <td>...</td>\n",
       "    </tr>\n",
       "    <tr>\n",
       "      <th>336353</th>\n",
       "      <td>3</td>\n",
       "      <td>3</td>\n",
       "      <td>18</td>\n",
       "      <td>2</td>\n",
       "      <td>10</td>\n",
       "      <td>2014</td>\n",
       "      <td>275</td>\n",
       "      <td>0</td>\n",
       "    </tr>\n",
       "    <tr>\n",
       "      <th>336354</th>\n",
       "      <td>6</td>\n",
       "      <td>0</td>\n",
       "      <td>14</td>\n",
       "      <td>26</td>\n",
       "      <td>5</td>\n",
       "      <td>2014</td>\n",
       "      <td>146</td>\n",
       "      <td>39</td>\n",
       "    </tr>\n",
       "    <tr>\n",
       "      <th>336355</th>\n",
       "      <td>10</td>\n",
       "      <td>4</td>\n",
       "      <td>11</td>\n",
       "      <td>2</td>\n",
       "      <td>5</td>\n",
       "      <td>2014</td>\n",
       "      <td>122</td>\n",
       "      <td>8</td>\n",
       "    </tr>\n",
       "    <tr>\n",
       "      <th>336356</th>\n",
       "      <td>7</td>\n",
       "      <td>5</td>\n",
       "      <td>10</td>\n",
       "      <td>3</td>\n",
       "      <td>5</td>\n",
       "      <td>2014</td>\n",
       "      <td>123</td>\n",
       "      <td>13</td>\n",
       "    </tr>\n",
       "    <tr>\n",
       "      <th>336357</th>\n",
       "      <td>2</td>\n",
       "      <td>6</td>\n",
       "      <td>10</td>\n",
       "      <td>2</td>\n",
       "      <td>11</td>\n",
       "      <td>2014</td>\n",
       "      <td>306</td>\n",
       "      <td>50</td>\n",
       "    </tr>\n",
       "  </tbody>\n",
       "</table>\n",
       "<p>336358 rows × 8 columns</p>\n",
       "</div>"
      ],
      "text/plain": [
       "        num_unique  day_of_week  hour  day  month  year  dayofyear  duration\n",
       "0                1            3    10   20      2  2014         51         0\n",
       "1                7            5    11   22      2  2014         53        26\n",
       "2                4            0    16   16     12  2013        350         7\n",
       "3                1            4    10   28      3  2014         87       270\n",
       "4                4            4    10   28      2  2014         59       246\n",
       "...            ...          ...   ...  ...    ...   ...        ...       ...\n",
       "336353           3            3    18    2     10  2014        275         0\n",
       "336354           6            0    14   26      5  2014        146        39\n",
       "336355          10            4    11    2      5  2014        122         8\n",
       "336356           7            5    10    3      5  2014        123        13\n",
       "336357           2            6    10    2     11  2014        306        50\n",
       "\n",
       "[336358 rows x 8 columns]"
      ]
     },
     "execution_count": 20,
     "metadata": {},
     "output_type": "execute_result"
    }
   ],
   "source": [
    "train_test_df_new_features"
   ]
  },
  {
   "cell_type": "code",
   "execution_count": 21,
   "metadata": {},
   "outputs": [],
   "source": [
    "matrix = csr_matrix(sp.hstack([train_test_sparse, hour_X,\\\n",
    "                                           train_test_df_new_features.drop('hour', axis = 1)]))\n",
    "X_train_sparse = matrix[:train_df.shape[0],:]\n",
    "X_test_sparse = matrix[train_df.shape[0]:,:]\n",
    "train_share = int(.7 * X_train_sparse.shape[0])\n",
    "X_train, y_train = X_train_sparse[:train_share, :], y[:train_share]\n",
    "X_valid, y_valid = X_train_sparse[train_share:, :], y[train_share:]"
   ]
  },
  {
   "cell_type": "markdown",
   "metadata": {},
   "source": [
    "Так как стоит задача бинарной классификации, то будем использовать логистическую регрессию для построения модели.\n",
    "Сделаем такой бейзлайн и посмотрим на результаты кросс-валидации:"
   ]
  },
  {
   "cell_type": "code",
   "execution_count": 22,
   "metadata": {},
   "outputs": [
    {
     "data": {
      "text/plain": [
       "0.9682906836127387"
      ]
     },
     "execution_count": 22,
     "metadata": {},
     "output_type": "execute_result"
    }
   ],
   "source": [
    "time_split = TimeSeriesSplit(n_splits = 5)\n",
    "logit = LogisticRegression(random_state = 17, n_jobs = -1, solver = 'liblinear')\n",
    "cross_val_score(estimator = logit, X = X_train, y = y_train, cv = time_split, scoring = 'roc_auc').mean()"
   ]
  },
  {
   "cell_type": "markdown",
   "metadata": {},
   "source": [
    "Сравним результаты кросс-валидации логистической регрессии с SGDClassifier с логистической функцией потерь. И проверим статистически ли значима разница в результатах двух классификаторов. Для этого будем использовать t-критерий Стьюдента."
   ]
  },
  {
   "cell_type": "code",
   "execution_count": 23,
   "metadata": {},
   "outputs": [
    {
     "data": {
      "text/plain": [
       "Ttest_relResult(statistic=6.257430892256816, pvalue=0.003326733407269294)"
      ]
     },
     "execution_count": 23,
     "metadata": {},
     "output_type": "execute_result"
    }
   ],
   "source": [
    "logit_scores = cross_val_score(estimator = logit, X = X_train, y = y_train, cv = time_split, scoring = 'roc_auc')\n",
    "sgd = SGDClassifier(loss = 'log', random_state = 17, n_jobs = -1)\n",
    "sgd_scores = cross_val_score(estimator = sgd, X = X_train, y = y_train, cv = time_split, scoring = 'roc_auc')\n",
    "ttest_rel(logit_scores, sgd_scores) "
   ]
  },
  {
   "cell_type": "markdown",
   "metadata": {},
   "source": [
    "Так как статистика положительна, то делаем вывод, что логистическая регрессия показывает результаты выше, чем SGDClassifier с логистической функцией потерь. А так как p-value ниже 0,05, то можно отвергнуть нулевую гипотезу о том, что обе модели дают одинаковый результат.  \n",
    "Поэтому дальше будем делать пользоваться алгоритмом логистической регрессии."
   ]
  },
  {
   "cell_type": "markdown",
   "metadata": {},
   "source": [
    "Попробуем из признаков оставить только сайты и проверим улучшили ли новые признаки модель:"
   ]
  },
  {
   "cell_type": "code",
   "execution_count": 24,
   "metadata": {},
   "outputs": [],
   "source": [
    "matrix_only_sites = csr_matrix(sp.hstack([train_test_sparse]))\n",
    "X_train_sparse_only_sites= matrix_only_sites[:train_df.shape[0],:]\n",
    "X_test_sparse_only_sites = matrix_only_sites[train_df.shape[0]:,:]\n",
    "X_train_only_sites = X_train_sparse_only_sites[:train_share, :]\n",
    "X_valid_only_sites = X_train_sparse_only_sites[train_share:, :]"
   ]
  },
  {
   "cell_type": "code",
   "execution_count": 25,
   "metadata": {},
   "outputs": [
    {
     "data": {
      "text/plain": [
       "Ttest_relResult(statistic=5.590016920216662, pvalue=0.005024496111379353)"
      ]
     },
     "execution_count": 25,
     "metadata": {},
     "output_type": "execute_result"
    }
   ],
   "source": [
    "logit_scores_only_sites = cross_val_score(estimator = logit, X = X_train_only_sites, \\\n",
    "                               y = y_train, cv = time_split, scoring = 'roc_auc')\n",
    "ttest_rel(logit_scores, logit_scores_only_sites)"
   ]
  },
  {
   "cell_type": "markdown",
   "metadata": {},
   "source": [
    "Добавление признаков приводит к статистически значимому улучшению модели."
   ]
  },
  {
   "cell_type": "markdown",
   "metadata": {},
   "source": [
    "Проверим какие веса дают новые признаки:"
   ]
  },
  {
   "cell_type": "code",
   "execution_count": 26,
   "metadata": {},
   "outputs": [
    {
     "data": {
      "text/plain": [
       "LogisticRegression(C=1.0, class_weight=None, dual=False, fit_intercept=True,\n",
       "                   intercept_scaling=1, l1_ratio=None, max_iter=100,\n",
       "                   multi_class='auto', n_jobs=-1, penalty='l2', random_state=17,\n",
       "                   solver='liblinear', tol=0.0001, verbose=0, warm_start=False)"
      ]
     },
     "execution_count": 26,
     "metadata": {},
     "output_type": "execute_result"
    }
   ],
   "source": [
    "logit = LogisticRegression(random_state=17, n_jobs=-1, solver='liblinear')\n",
    "logit.fit(X_train_sparse, y)"
   ]
  },
  {
   "cell_type": "code",
   "execution_count": 27,
   "metadata": {},
   "outputs": [],
   "source": [
    "new_feature_names = ['morning', 'afternoon', 'evening', 'nigth', 'num_unique', \\\n",
    "                     'day_of_week', 'day', 'month', 'year', 'dayofyear','duration']"
   ]
  },
  {
   "cell_type": "code",
   "execution_count": 28,
   "metadata": {},
   "outputs": [
    {
     "name": "stdout",
     "output_type": "stream",
     "text": [
      "New feature weights:\n",
      "        feature      coef\n",
      "0       morning -1.700261\n",
      "1     afternoon  2.264724\n",
      "2       evening -0.562831\n",
      "3         nigth  0.001633\n",
      "4    num_unique  0.214535\n",
      "5   day_of_week -0.345982\n",
      "6           day -0.030968\n",
      "7         month -0.015280\n",
      "8          year -0.004254\n",
      "9     dayofyear  0.004428\n",
      "10     duration -0.000658\n"
     ]
    }
   ],
   "source": [
    "print('New feature weights:')\n",
    "    \n",
    "print(pd.DataFrame({'feature': new_feature_names, \n",
    "                    'coef': logit.coef_.flatten()[-len(new_feature_names):]}))\n",
    "    "
   ]
  },
  {
   "cell_type": "markdown",
   "metadata": {},
   "source": [
    "Признаки year, dayofyear и duration нужно отнормировать."
   ]
  },
  {
   "cell_type": "code",
   "execution_count": 29,
   "metadata": {},
   "outputs": [],
   "source": [
    "scaler_day = MinMaxScaler()\n",
    "dayofyear_train = scaler_day.fit_transform(pd.DataFrame(train_new_features['dayofyear']))\n",
    "dayofyear_test = scaler_day.transform(pd.DataFrame(test_new_features['dayofyear']))\n",
    "dayofyear_X = np.append(dayofyear_train, dayofyear_test)"
   ]
  },
  {
   "cell_type": "code",
   "execution_count": 30,
   "metadata": {},
   "outputs": [],
   "source": [
    "scaler_duration = MinMaxScaler()\n",
    "duration_train = scaler_duration.fit_transform(pd.DataFrame(train_new_features['duration']))\n",
    "duration_test = scaler_duration.transform(pd.DataFrame(test_new_features['duration']))\n",
    "duration_X = np.append(duration_train, duration_test)"
   ]
  },
  {
   "cell_type": "code",
   "execution_count": 31,
   "metadata": {},
   "outputs": [],
   "source": [
    "train_test_df_new_features['year'] = train_test_df_new_features.year.map(lambda y: y-2013)"
   ]
  },
  {
   "cell_type": "code",
   "execution_count": 32,
   "metadata": {},
   "outputs": [
    {
     "data": {
      "text/html": [
       "<div>\n",
       "<style scoped>\n",
       "    .dataframe tbody tr th:only-of-type {\n",
       "        vertical-align: middle;\n",
       "    }\n",
       "\n",
       "    .dataframe tbody tr th {\n",
       "        vertical-align: top;\n",
       "    }\n",
       "\n",
       "    .dataframe thead th {\n",
       "        text-align: right;\n",
       "    }\n",
       "</style>\n",
       "<table border=\"1\" class=\"dataframe\">\n",
       "  <thead>\n",
       "    <tr style=\"text-align: right;\">\n",
       "      <th></th>\n",
       "      <th>num_unique</th>\n",
       "      <th>day_of_week</th>\n",
       "      <th>hour</th>\n",
       "      <th>day</th>\n",
       "      <th>month</th>\n",
       "      <th>year</th>\n",
       "      <th>dayofyear</th>\n",
       "      <th>duration</th>\n",
       "    </tr>\n",
       "  </thead>\n",
       "  <tbody>\n",
       "    <tr>\n",
       "      <th>0</th>\n",
       "      <td>1</td>\n",
       "      <td>3</td>\n",
       "      <td>10</td>\n",
       "      <td>20</td>\n",
       "      <td>2</td>\n",
       "      <td>1</td>\n",
       "      <td>0.134986</td>\n",
       "      <td>0.000000</td>\n",
       "    </tr>\n",
       "    <tr>\n",
       "      <th>1</th>\n",
       "      <td>7</td>\n",
       "      <td>5</td>\n",
       "      <td>11</td>\n",
       "      <td>22</td>\n",
       "      <td>2</td>\n",
       "      <td>1</td>\n",
       "      <td>0.140496</td>\n",
       "      <td>0.014444</td>\n",
       "    </tr>\n",
       "    <tr>\n",
       "      <th>2</th>\n",
       "      <td>4</td>\n",
       "      <td>0</td>\n",
       "      <td>16</td>\n",
       "      <td>16</td>\n",
       "      <td>12</td>\n",
       "      <td>0</td>\n",
       "      <td>0.958678</td>\n",
       "      <td>0.003889</td>\n",
       "    </tr>\n",
       "    <tr>\n",
       "      <th>3</th>\n",
       "      <td>1</td>\n",
       "      <td>4</td>\n",
       "      <td>10</td>\n",
       "      <td>28</td>\n",
       "      <td>3</td>\n",
       "      <td>1</td>\n",
       "      <td>0.234160</td>\n",
       "      <td>0.150000</td>\n",
       "    </tr>\n",
       "    <tr>\n",
       "      <th>4</th>\n",
       "      <td>4</td>\n",
       "      <td>4</td>\n",
       "      <td>10</td>\n",
       "      <td>28</td>\n",
       "      <td>2</td>\n",
       "      <td>1</td>\n",
       "      <td>0.157025</td>\n",
       "      <td>0.136667</td>\n",
       "    </tr>\n",
       "    <tr>\n",
       "      <th>...</th>\n",
       "      <td>...</td>\n",
       "      <td>...</td>\n",
       "      <td>...</td>\n",
       "      <td>...</td>\n",
       "      <td>...</td>\n",
       "      <td>...</td>\n",
       "      <td>...</td>\n",
       "      <td>...</td>\n",
       "    </tr>\n",
       "    <tr>\n",
       "      <th>336353</th>\n",
       "      <td>3</td>\n",
       "      <td>3</td>\n",
       "      <td>18</td>\n",
       "      <td>2</td>\n",
       "      <td>10</td>\n",
       "      <td>1</td>\n",
       "      <td>0.752066</td>\n",
       "      <td>0.000000</td>\n",
       "    </tr>\n",
       "    <tr>\n",
       "      <th>336354</th>\n",
       "      <td>6</td>\n",
       "      <td>0</td>\n",
       "      <td>14</td>\n",
       "      <td>26</td>\n",
       "      <td>5</td>\n",
       "      <td>1</td>\n",
       "      <td>0.396694</td>\n",
       "      <td>0.021667</td>\n",
       "    </tr>\n",
       "    <tr>\n",
       "      <th>336355</th>\n",
       "      <td>10</td>\n",
       "      <td>4</td>\n",
       "      <td>11</td>\n",
       "      <td>2</td>\n",
       "      <td>5</td>\n",
       "      <td>1</td>\n",
       "      <td>0.330579</td>\n",
       "      <td>0.004444</td>\n",
       "    </tr>\n",
       "    <tr>\n",
       "      <th>336356</th>\n",
       "      <td>7</td>\n",
       "      <td>5</td>\n",
       "      <td>10</td>\n",
       "      <td>3</td>\n",
       "      <td>5</td>\n",
       "      <td>1</td>\n",
       "      <td>0.333333</td>\n",
       "      <td>0.007222</td>\n",
       "    </tr>\n",
       "    <tr>\n",
       "      <th>336357</th>\n",
       "      <td>2</td>\n",
       "      <td>6</td>\n",
       "      <td>10</td>\n",
       "      <td>2</td>\n",
       "      <td>11</td>\n",
       "      <td>1</td>\n",
       "      <td>0.837466</td>\n",
       "      <td>0.027778</td>\n",
       "    </tr>\n",
       "  </tbody>\n",
       "</table>\n",
       "<p>336358 rows × 8 columns</p>\n",
       "</div>"
      ],
      "text/plain": [
       "        num_unique  day_of_week  hour  day  month  year  dayofyear  duration\n",
       "0                1            3    10   20      2     1   0.134986  0.000000\n",
       "1                7            5    11   22      2     1   0.140496  0.014444\n",
       "2                4            0    16   16     12     0   0.958678  0.003889\n",
       "3                1            4    10   28      3     1   0.234160  0.150000\n",
       "4                4            4    10   28      2     1   0.157025  0.136667\n",
       "...            ...          ...   ...  ...    ...   ...        ...       ...\n",
       "336353           3            3    18    2     10     1   0.752066  0.000000\n",
       "336354           6            0    14   26      5     1   0.396694  0.021667\n",
       "336355          10            4    11    2      5     1   0.330579  0.004444\n",
       "336356           7            5    10    3      5     1   0.333333  0.007222\n",
       "336357           2            6    10    2     11     1   0.837466  0.027778\n",
       "\n",
       "[336358 rows x 8 columns]"
      ]
     },
     "execution_count": 32,
     "metadata": {},
     "output_type": "execute_result"
    }
   ],
   "source": [
    "train_test_df_new_features['dayofyear'] = dayofyear_X \n",
    "train_test_df_new_features['duration'] = duration_X \n",
    "train_test_df_new_features"
   ]
  },
  {
   "cell_type": "markdown",
   "metadata": {},
   "source": [
    "Проверим какие теперь будут веса:"
   ]
  },
  {
   "cell_type": "code",
   "execution_count": 33,
   "metadata": {},
   "outputs": [],
   "source": [
    "matrix = csr_matrix(sp.hstack([train_test_sparse, hour_X,\\\n",
    "                                           train_test_df_new_features.drop('hour', axis = 1)]))\n",
    "X_train_sparse = matrix[:train_df.shape[0],:]\n",
    "X_test_sparse = matrix[train_df.shape[0]:,:]\n",
    "X_train = X_train_sparse[:train_share, :]\n",
    "X_valid = X_train_sparse[train_share:, :]"
   ]
  },
  {
   "cell_type": "code",
   "execution_count": 34,
   "metadata": {},
   "outputs": [
    {
     "data": {
      "text/plain": [
       "LogisticRegression(C=1.0, class_weight=None, dual=False, fit_intercept=True,\n",
       "                   intercept_scaling=1, l1_ratio=None, max_iter=100,\n",
       "                   multi_class='auto', n_jobs=-1, penalty='l2', random_state=17,\n",
       "                   solver='liblinear', tol=0.0001, verbose=0, warm_start=False)"
      ]
     },
     "execution_count": 34,
     "metadata": {},
     "output_type": "execute_result"
    }
   ],
   "source": [
    "logit = LogisticRegression(random_state=17, n_jobs=-1, solver='liblinear')\n",
    "logit.fit(X_train_sparse, y)"
   ]
  },
  {
   "cell_type": "code",
   "execution_count": 35,
   "metadata": {},
   "outputs": [
    {
     "name": "stdout",
     "output_type": "stream",
     "text": [
      "New feature weights:\n",
      "        feature      coef\n",
      "0       morning -3.009855\n",
      "1     afternoon  1.242178\n",
      "2       evening -2.262153\n",
      "3         nigth -4.029830\n",
      "4    num_unique  0.252430\n",
      "5   day_of_week -0.424943\n",
      "6           day -0.029763\n",
      "7         month  0.018079\n",
      "8          year -0.930416\n",
      "9     dayofyear  0.432381\n",
      "10     duration -0.849562\n"
     ]
    }
   ],
   "source": [
    "print('New feature weights:')\n",
    "    \n",
    "print(pd.DataFrame({'feature': new_feature_names, \n",
    "                    'coef': logit.coef_.flatten()[-len(new_feature_names):]}))"
   ]
  },
  {
   "cell_type": "markdown",
   "metadata": {},
   "source": [
    "Теперь все выглядит значительно лучше."
   ]
  },
  {
   "cell_type": "code",
   "execution_count": 36,
   "metadata": {},
   "outputs": [
    {
     "data": {
      "text/plain": [
       "Ttest_relResult(statistic=-2.2293789729528903, pvalue=0.08967273764553024)"
      ]
     },
     "execution_count": 36,
     "metadata": {},
     "output_type": "execute_result"
    }
   ],
   "source": [
    "logit_scores_scaled = cross_val_score(estimator = logit, X = X_train, \\\n",
    "                               y = y_train, cv = time_split, scoring = 'roc_auc')\n",
    "ttest_rel(logit_scores, logit_scores_scaled)"
   ]
  },
  {
   "cell_type": "markdown",
   "metadata": {},
   "source": [
    "Нормирование улучшило модель."
   ]
  },
  {
   "cell_type": "markdown",
   "metadata": {},
   "source": [
    "Попробуем добавить еще признак, объединив год и месяц"
   ]
  },
  {
   "cell_type": "code",
   "execution_count": 37,
   "metadata": {},
   "outputs": [],
   "source": [
    "def month_year_add(row):\n",
    "    return int(row.month+12) if row.year == 1 else int(row.month)\n",
    "train_test_df_new_features['month_year'] = train_test_df_new_features.apply(month_year_add, axis = 'columns')"
   ]
  },
  {
   "cell_type": "code",
   "execution_count": 38,
   "metadata": {},
   "outputs": [],
   "source": [
    "matrix_with_monthyear = csr_matrix(sp.hstack([train_test_sparse, hour_X,\\\n",
    "                                           train_test_df_new_features.drop('hour', axis = 1)]))\n",
    "X_train_sparse_with_monthyear = matrix_with_monthyear[:train_df.shape[0],:]\n",
    "X_test_sparse_with_monthyear = matrix_with_monthyear[train_df.shape[0]:,:]\n",
    "X_train_with_monthyear = X_train_sparse_with_monthyear[:train_share, :]\n",
    "X_valid_with_monthyear = X_train_sparse_with_monthyear[train_share:, :]"
   ]
  },
  {
   "cell_type": "code",
   "execution_count": 39,
   "metadata": {},
   "outputs": [
    {
     "data": {
      "text/plain": [
       "Ttest_relResult(statistic=0.3692606258730584, pvalue=0.7306500441457238)"
      ]
     },
     "execution_count": 39,
     "metadata": {},
     "output_type": "execute_result"
    }
   ],
   "source": [
    "logit_scores_with_monthyear = cross_val_score(estimator = logit, X = X_train_with_monthyear, \\\n",
    "                               y = y_train, cv = time_split, scoring = 'roc_auc')\n",
    "ttest_rel(logit_scores_scaled, logit_scores_with_monthyear)"
   ]
  },
  {
   "cell_type": "markdown",
   "metadata": {},
   "source": [
    "Добавление признака не привело к улучшению модели. Этого и следовало ожидать, так как он коррелирован и двумя признаками, на которых он основан. Посмотрим матрицу корреляции:"
   ]
  },
  {
   "cell_type": "code",
   "execution_count": 40,
   "metadata": {},
   "outputs": [
    {
     "data": {
      "text/plain": [
       "<matplotlib.axes._subplots.AxesSubplot at 0x7fb4d01c4610>"
      ]
     },
     "execution_count": 40,
     "metadata": {},
     "output_type": "execute_result"
    },
    {
     "data": {
      "image/png": "[encoded data removed]",
      "text/plain": [
       "<Figure size 432x288 with 2 Axes>"
      ]
     },
     "metadata": {
      "needs_background": "light"
     },
     "output_type": "display_data"
    }
   ],
   "source": [
    "sns.heatmap(train_test_df_new_features.drop('hour', axis = 1).corr(), cmap= 'coolwarm')"
   ]
  },
  {
   "cell_type": "markdown",
   "metadata": {},
   "source": [
    "Помимо уже упомянутых коррелированных признаков есть и другие: dayofyear & month, dayofyeat & year, year & month, month_year & day, month_year & year.  \n",
    "Попробуем убрать следующие признаки year, month, day."
   ]
  },
  {
   "cell_type": "code",
   "execution_count": 41,
   "metadata": {},
   "outputs": [],
   "source": [
    "matrix_deleted_features = csr_matrix(sp.hstack([train_test_sparse, hour_X,\\\n",
    "                                    train_test_df_new_features.drop(['hour', 'year', 'month', 'day'], axis = 1)]))\n",
    "X_train_sparse_deleted_features = matrix_deleted_features[:train_df.shape[0],:]\n",
    "X_test_sparse_deleted_features = matrix_deleted_features[train_df.shape[0]:,:]\n",
    "X_train_deleted_features = X_train_sparse_deleted_features[:train_share, :]\n",
    "X_valid_deleted_features = X_train_sparse_deleted_features[train_share:, :]"
   ]
  },
  {
   "cell_type": "code",
   "execution_count": 42,
   "metadata": {},
   "outputs": [
    {
     "data": {
      "text/plain": [
       "Ttest_relResult(statistic=3.1550924251699675, pvalue=0.034345523185834746)"
      ]
     },
     "execution_count": 42,
     "metadata": {},
     "output_type": "execute_result"
    }
   ],
   "source": [
    "logit_scores_deleted_features = cross_val_score(estimator = logit, X = X_train_deleted_features, \\\n",
    "                               y = y_train, cv = time_split, scoring = 'roc_auc')\n",
    "ttest_rel(logit_scores_scaled, logit_scores_deleted_features)"
   ]
  },
  {
   "cell_type": "code",
   "execution_count": null,
   "metadata": {},
   "outputs": [],
   "source": []
  },
  {
   "cell_type": "code",
   "execution_count": 43,
   "metadata": {},
   "outputs": [],
   "source": [
    "logit = LogisticRegression(random_state=17, n_jobs=-1, solver='liblinear')\n",
    "logit.fit(X_train_sparse, y)\n",
    "logit_test_pred_proba = logit.predict_proba(X_test_sparse)\n",
    "write_to_submission_file(logit_test_pred_proba.T[1], 'Submission')"
   ]
  },
  {
   "cell_type": "markdown",
   "metadata": {},
   "source": [
    "0.93748"
   ]
  },
  {
   "cell_type": "code",
   "execution_count": null,
   "metadata": {},
   "outputs": [],
   "source": []
  },
  {
   "cell_type": "markdown",
   "metadata": {},
   "source": [
    "Попробуем отобрать необходимые с помощью l1 регуляризации:"
   ]
  },
  {
   "cell_type": "code",
   "execution_count": 44,
   "metadata": {},
   "outputs": [],
   "source": [
    "all_features = pd.concat([train_test_df_new_features.drop('hour', axis = 1), hour_X], axis = 1)\n",
    "train_features = all_features.iloc[:train_df.shape[0],:]"
   ]
  },
  {
   "cell_type": "code",
   "execution_count": 45,
   "metadata": {},
   "outputs": [
    {
     "name": "stdout",
     "output_type": "stream",
     "text": [
      "CPU times: user 35.7 s, sys: 59.9 ms, total: 35.8 s\n",
      "Wall time: 35.8 s\n"
     ]
    }
   ],
   "source": [
    "%%time\n",
    "logistic = LogisticRegression(C=1, penalty=\"l1\", solver='liblinear', \\\n",
    "                              random_state=17).fit(train_features, y)\n",
    "model = SelectFromModel(logistic, prefit=True)\n",
    "X_new = model.transform(train_features)\n",
    "selected_features = pd.DataFrame(model.inverse_transform(X_new), \n",
    "                                 index=train_features.index,\n",
    "                                 columns=train_features.columns)\n",
    "selected_columns = selected_features.columns[selected_features.var() != 0]"
   ]
  },
  {
   "cell_type": "code",
   "execution_count": 46,
   "metadata": {},
   "outputs": [
    {
     "data": {
      "text/plain": [
       "Index(['num_unique', 'day_of_week', 'day', 'month', 'duration', 'month_year',\n",
       "       'morning', 'evening'],\n",
       "      dtype='object')"
      ]
     },
     "execution_count": 46,
     "metadata": {},
     "output_type": "execute_result"
    }
   ],
   "source": [
    "selected_columns"
   ]
  },
  {
   "cell_type": "markdown",
   "metadata": {},
   "source": [
    "При таком отборе признаков удаляются 'year', 'dayofyear', 'afternoon'. Проверим дает ли это улучшение метрики"
   ]
  },
  {
   "cell_type": "code",
   "execution_count": 47,
   "metadata": {},
   "outputs": [],
   "source": [
    "train_test_df_final = pd.concat([hour_X, train_test_df_new_features.drop('hour', axis = 1)], axis = 1)\n",
    "matrix_selected = csr_matrix(sp.hstack([train_test_sparse, train_test_df_final]))\n",
    "X_train_sparse_selected = matrix_selected[:train_df.shape[0],:]\n",
    "X_test_sparse_selected = matrix_selected[train_df.shape[0]:,:]\n",
    "X_train_selected = X_train_sparse_selected[:train_share, :]\n",
    "X_valid_selected = X_train_sparse_selected[train_share:, :]"
   ]
  },
  {
   "cell_type": "code",
   "execution_count": 48,
   "metadata": {},
   "outputs": [
    {
     "data": {
      "text/plain": [
       "Ttest_relResult(statistic=0.3692606258730584, pvalue=0.7306500441457238)"
      ]
     },
     "execution_count": 48,
     "metadata": {},
     "output_type": "execute_result"
    }
   ],
   "source": [
    "logit_scores_selected = cross_val_score(estimator = logit, X = X_train_selected, \\\n",
    "                               y = y_train, cv = time_split, scoring = 'roc_auc')\n",
    "ttest_rel(logit_scores_scaled, logit_scores_selected)"
   ]
  },
  {
   "cell_type": "code",
   "execution_count": 49,
   "metadata": {},
   "outputs": [],
   "source": [
    "logit = LogisticRegression(random_state=17, n_jobs=-1, solver='liblinear')\n",
    "logit.fit(X_train_sparse_selected, y)\n",
    "logit_test_pred_proba = logit.predict_proba(X_test_sparse_selected)\n",
    "write_to_submission_file(logit_test_pred_proba.T[1], 'Submission')"
   ]
  },
  {
   "cell_type": "markdown",
   "metadata": {},
   "source": [
    "0.94084"
   ]
  },
  {
   "cell_type": "code",
   "execution_count": null,
   "metadata": {},
   "outputs": [],
   "source": []
  },
  {
   "cell_type": "code",
   "execution_count": 50,
   "metadata": {},
   "outputs": [
    {
     "data": {
      "text/html": [
       "<div>\n",
       "<style scoped>\n",
       "    .dataframe tbody tr th:only-of-type {\n",
       "        vertical-align: middle;\n",
       "    }\n",
       "\n",
       "    .dataframe tbody tr th {\n",
       "        vertical-align: top;\n",
       "    }\n",
       "\n",
       "    .dataframe thead th {\n",
       "        text-align: right;\n",
       "    }\n",
       "</style>\n",
       "<table border=\"1\" class=\"dataframe\">\n",
       "  <thead>\n",
       "    <tr style=\"text-align: right;\">\n",
       "      <th></th>\n",
       "      <th>morning</th>\n",
       "      <th>afternoon</th>\n",
       "      <th>evening</th>\n",
       "      <th>nigth</th>\n",
       "      <th>num_unique</th>\n",
       "      <th>day_of_week</th>\n",
       "      <th>day</th>\n",
       "      <th>month</th>\n",
       "      <th>year</th>\n",
       "      <th>dayofyear</th>\n",
       "      <th>duration</th>\n",
       "      <th>month_year</th>\n",
       "    </tr>\n",
       "  </thead>\n",
       "  <tbody>\n",
       "    <tr>\n",
       "      <th>0</th>\n",
       "      <td>1</td>\n",
       "      <td>0</td>\n",
       "      <td>0</td>\n",
       "      <td>1</td>\n",
       "      <td>1</td>\n",
       "      <td>3</td>\n",
       "      <td>20</td>\n",
       "      <td>2</td>\n",
       "      <td>1</td>\n",
       "      <td>0.134986</td>\n",
       "      <td>0.000000</td>\n",
       "      <td>14</td>\n",
       "    </tr>\n",
       "    <tr>\n",
       "      <th>1</th>\n",
       "      <td>1</td>\n",
       "      <td>0</td>\n",
       "      <td>0</td>\n",
       "      <td>1</td>\n",
       "      <td>7</td>\n",
       "      <td>5</td>\n",
       "      <td>22</td>\n",
       "      <td>2</td>\n",
       "      <td>1</td>\n",
       "      <td>0.140496</td>\n",
       "      <td>0.014444</td>\n",
       "      <td>14</td>\n",
       "    </tr>\n",
       "    <tr>\n",
       "      <th>2</th>\n",
       "      <td>0</td>\n",
       "      <td>1</td>\n",
       "      <td>0</td>\n",
       "      <td>1</td>\n",
       "      <td>4</td>\n",
       "      <td>0</td>\n",
       "      <td>16</td>\n",
       "      <td>12</td>\n",
       "      <td>0</td>\n",
       "      <td>0.958678</td>\n",
       "      <td>0.003889</td>\n",
       "      <td>12</td>\n",
       "    </tr>\n",
       "    <tr>\n",
       "      <th>3</th>\n",
       "      <td>1</td>\n",
       "      <td>0</td>\n",
       "      <td>0</td>\n",
       "      <td>1</td>\n",
       "      <td>1</td>\n",
       "      <td>4</td>\n",
       "      <td>28</td>\n",
       "      <td>3</td>\n",
       "      <td>1</td>\n",
       "      <td>0.234160</td>\n",
       "      <td>0.150000</td>\n",
       "      <td>15</td>\n",
       "    </tr>\n",
       "    <tr>\n",
       "      <th>4</th>\n",
       "      <td>1</td>\n",
       "      <td>0</td>\n",
       "      <td>0</td>\n",
       "      <td>1</td>\n",
       "      <td>4</td>\n",
       "      <td>4</td>\n",
       "      <td>28</td>\n",
       "      <td>2</td>\n",
       "      <td>1</td>\n",
       "      <td>0.157025</td>\n",
       "      <td>0.136667</td>\n",
       "      <td>14</td>\n",
       "    </tr>\n",
       "    <tr>\n",
       "      <th>...</th>\n",
       "      <td>...</td>\n",
       "      <td>...</td>\n",
       "      <td>...</td>\n",
       "      <td>...</td>\n",
       "      <td>...</td>\n",
       "      <td>...</td>\n",
       "      <td>...</td>\n",
       "      <td>...</td>\n",
       "      <td>...</td>\n",
       "      <td>...</td>\n",
       "      <td>...</td>\n",
       "      <td>...</td>\n",
       "    </tr>\n",
       "    <tr>\n",
       "      <th>336353</th>\n",
       "      <td>0</td>\n",
       "      <td>1</td>\n",
       "      <td>0</td>\n",
       "      <td>1</td>\n",
       "      <td>3</td>\n",
       "      <td>3</td>\n",
       "      <td>2</td>\n",
       "      <td>10</td>\n",
       "      <td>1</td>\n",
       "      <td>0.752066</td>\n",
       "      <td>0.000000</td>\n",
       "      <td>22</td>\n",
       "    </tr>\n",
       "    <tr>\n",
       "      <th>336354</th>\n",
       "      <td>0</td>\n",
       "      <td>1</td>\n",
       "      <td>0</td>\n",
       "      <td>1</td>\n",
       "      <td>6</td>\n",
       "      <td>0</td>\n",
       "      <td>26</td>\n",
       "      <td>5</td>\n",
       "      <td>1</td>\n",
       "      <td>0.396694</td>\n",
       "      <td>0.021667</td>\n",
       "      <td>17</td>\n",
       "    </tr>\n",
       "    <tr>\n",
       "      <th>336355</th>\n",
       "      <td>1</td>\n",
       "      <td>0</td>\n",
       "      <td>0</td>\n",
       "      <td>1</td>\n",
       "      <td>10</td>\n",
       "      <td>4</td>\n",
       "      <td>2</td>\n",
       "      <td>5</td>\n",
       "      <td>1</td>\n",
       "      <td>0.330579</td>\n",
       "      <td>0.004444</td>\n",
       "      <td>17</td>\n",
       "    </tr>\n",
       "    <tr>\n",
       "      <th>336356</th>\n",
       "      <td>1</td>\n",
       "      <td>0</td>\n",
       "      <td>0</td>\n",
       "      <td>1</td>\n",
       "      <td>7</td>\n",
       "      <td>5</td>\n",
       "      <td>3</td>\n",
       "      <td>5</td>\n",
       "      <td>1</td>\n",
       "      <td>0.333333</td>\n",
       "      <td>0.007222</td>\n",
       "      <td>17</td>\n",
       "    </tr>\n",
       "    <tr>\n",
       "      <th>336357</th>\n",
       "      <td>1</td>\n",
       "      <td>0</td>\n",
       "      <td>0</td>\n",
       "      <td>1</td>\n",
       "      <td>2</td>\n",
       "      <td>6</td>\n",
       "      <td>2</td>\n",
       "      <td>11</td>\n",
       "      <td>1</td>\n",
       "      <td>0.837466</td>\n",
       "      <td>0.027778</td>\n",
       "      <td>23</td>\n",
       "    </tr>\n",
       "  </tbody>\n",
       "</table>\n",
       "<p>336358 rows × 12 columns</p>\n",
       "</div>"
      ],
      "text/plain": [
       "        morning  afternoon  evening  nigth  num_unique  day_of_week  day  \\\n",
       "0             1          0        0      1           1            3   20   \n",
       "1             1          0        0      1           7            5   22   \n",
       "2             0          1        0      1           4            0   16   \n",
       "3             1          0        0      1           1            4   28   \n",
       "4             1          0        0      1           4            4   28   \n",
       "...         ...        ...      ...    ...         ...          ...  ...   \n",
       "336353        0          1        0      1           3            3    2   \n",
       "336354        0          1        0      1           6            0   26   \n",
       "336355        1          0        0      1          10            4    2   \n",
       "336356        1          0        0      1           7            5    3   \n",
       "336357        1          0        0      1           2            6    2   \n",
       "\n",
       "        month  year  dayofyear  duration  month_year  \n",
       "0           2     1   0.134986  0.000000          14  \n",
       "1           2     1   0.140496  0.014444          14  \n",
       "2          12     0   0.958678  0.003889          12  \n",
       "3           3     1   0.234160  0.150000          15  \n",
       "4           2     1   0.157025  0.136667          14  \n",
       "...       ...   ...        ...       ...         ...  \n",
       "336353     10     1   0.752066  0.000000          22  \n",
       "336354      5     1   0.396694  0.021667          17  \n",
       "336355      5     1   0.330579  0.004444          17  \n",
       "336356      5     1   0.333333  0.007222          17  \n",
       "336357     11     1   0.837466  0.027778          23  \n",
       "\n",
       "[336358 rows x 12 columns]"
      ]
     },
     "execution_count": 50,
     "metadata": {},
     "output_type": "execute_result"
    }
   ],
   "source": [
    "train_test_df_final"
   ]
  },
  {
   "cell_type": "code",
   "execution_count": 51,
   "metadata": {},
   "outputs": [],
   "source": [
    "matrix_from_kaggle = csr_matrix(sp.hstack([train_test_sparse, \\\n",
    "                     train_test_df_final.drop(['num_unique', 'day', 'year', 'dayofyear'], axis = 1)]))\n",
    "X_train_sparse_from_kaggle= matrix_from_kaggle[:train_df.shape[0],:]\n",
    "X_test_sparse_from_kaggle = matrix_from_kaggle[train_df.shape[0]:,:]\n",
    "X_train_from_kaggle = X_train_sparse_from_kaggle[:train_share, :]\n",
    "X_valid_from_kaggle = X_train_sparse_from_kaggle[train_share:, :]"
   ]
  },
  {
   "cell_type": "code",
   "execution_count": 52,
   "metadata": {},
   "outputs": [
    {
     "data": {
      "text/plain": [
       "Ttest_relResult(statistic=-0.8756397531771705, pvalue=0.4306590748903515)"
      ]
     },
     "execution_count": 52,
     "metadata": {},
     "output_type": "execute_result"
    }
   ],
   "source": [
    "logit_scores_from_kaggle = cross_val_score(estimator = logit, X = X_train_from_kaggle, \\\n",
    "                               y = y_train, cv = time_split, scoring = 'roc_auc')\n",
    "ttest_rel(logit_scores_scaled, logit_scores_from_kaggle)"
   ]
  },
  {
   "cell_type": "code",
   "execution_count": 53,
   "metadata": {},
   "outputs": [],
   "source": [
    "logit = LogisticRegression(random_state=17, n_jobs=-1, solver='liblinear')\n",
    "logit.fit(X_train_sparse_from_kaggle, y)\n",
    "logit_test_pred_proba = logit.predict_proba(X_test_sparse_from_kaggle)\n",
    "write_to_submission_file(logit_test_pred_proba.T[1], 'Submission')"
   ]
  },
  {
   "cell_type": "code",
   "execution_count": 54,
   "metadata": {},
   "outputs": [
    {
     "data": {
      "text/html": [
       "<div>\n",
       "<style scoped>\n",
       "    .dataframe tbody tr th:only-of-type {\n",
       "        vertical-align: middle;\n",
       "    }\n",
       "\n",
       "    .dataframe tbody tr th {\n",
       "        vertical-align: top;\n",
       "    }\n",
       "\n",
       "    .dataframe thead th {\n",
       "        text-align: right;\n",
       "    }\n",
       "</style>\n",
       "<table border=\"1\" class=\"dataframe\">\n",
       "  <thead>\n",
       "    <tr style=\"text-align: right;\">\n",
       "      <th></th>\n",
       "      <th>morning</th>\n",
       "      <th>afternoon</th>\n",
       "      <th>evening</th>\n",
       "      <th>nigth</th>\n",
       "      <th>day_of_week</th>\n",
       "      <th>month</th>\n",
       "      <th>duration</th>\n",
       "      <th>month_year</th>\n",
       "    </tr>\n",
       "  </thead>\n",
       "  <tbody>\n",
       "    <tr>\n",
       "      <th>count</th>\n",
       "      <td>336358.000000</td>\n",
       "      <td>336358.000000</td>\n",
       "      <td>336358.000000</td>\n",
       "      <td>336358.0</td>\n",
       "      <td>336358.000000</td>\n",
       "      <td>336358.000000</td>\n",
       "      <td>336358.000000</td>\n",
       "      <td>336358.000000</td>\n",
       "    </tr>\n",
       "    <tr>\n",
       "      <th>mean</th>\n",
       "      <td>0.474025</td>\n",
       "      <td>0.497705</td>\n",
       "      <td>0.028270</td>\n",
       "      <td>1.0</td>\n",
       "      <td>2.455616</td>\n",
       "      <td>5.377720</td>\n",
       "      <td>0.076334</td>\n",
       "      <td>14.713594</td>\n",
       "    </tr>\n",
       "    <tr>\n",
       "      <th>std</th>\n",
       "      <td>0.499326</td>\n",
       "      <td>0.499995</td>\n",
       "      <td>0.165745</td>\n",
       "      <td>0.0</td>\n",
       "      <td>1.722589</td>\n",
       "      <td>3.804095</td>\n",
       "      <td>0.162893</td>\n",
       "      <td>4.220533</td>\n",
       "    </tr>\n",
       "    <tr>\n",
       "      <th>min</th>\n",
       "      <td>0.000000</td>\n",
       "      <td>0.000000</td>\n",
       "      <td>0.000000</td>\n",
       "      <td>1.0</td>\n",
       "      <td>0.000000</td>\n",
       "      <td>1.000000</td>\n",
       "      <td>0.000000</td>\n",
       "      <td>1.000000</td>\n",
       "    </tr>\n",
       "    <tr>\n",
       "      <th>25%</th>\n",
       "      <td>0.000000</td>\n",
       "      <td>0.000000</td>\n",
       "      <td>0.000000</td>\n",
       "      <td>1.0</td>\n",
       "      <td>1.000000</td>\n",
       "      <td>2.000000</td>\n",
       "      <td>0.003889</td>\n",
       "      <td>13.000000</td>\n",
       "    </tr>\n",
       "    <tr>\n",
       "      <th>50%</th>\n",
       "      <td>0.000000</td>\n",
       "      <td>0.000000</td>\n",
       "      <td>0.000000</td>\n",
       "      <td>1.0</td>\n",
       "      <td>2.000000</td>\n",
       "      <td>4.000000</td>\n",
       "      <td>0.015556</td>\n",
       "      <td>15.000000</td>\n",
       "    </tr>\n",
       "    <tr>\n",
       "      <th>75%</th>\n",
       "      <td>1.000000</td>\n",
       "      <td>1.000000</td>\n",
       "      <td>0.000000</td>\n",
       "      <td>1.0</td>\n",
       "      <td>4.000000</td>\n",
       "      <td>10.000000</td>\n",
       "      <td>0.062222</td>\n",
       "      <td>16.000000</td>\n",
       "    </tr>\n",
       "    <tr>\n",
       "      <th>max</th>\n",
       "      <td>1.000000</td>\n",
       "      <td>1.000000</td>\n",
       "      <td>1.000000</td>\n",
       "      <td>1.0</td>\n",
       "      <td>6.000000</td>\n",
       "      <td>12.000000</td>\n",
       "      <td>1.000000</td>\n",
       "      <td>24.000000</td>\n",
       "    </tr>\n",
       "  </tbody>\n",
       "</table>\n",
       "</div>"
      ],
      "text/plain": [
       "             morning      afternoon        evening     nigth    day_of_week  \\\n",
       "count  336358.000000  336358.000000  336358.000000  336358.0  336358.000000   \n",
       "mean        0.474025       0.497705       0.028270       1.0       2.455616   \n",
       "std         0.499326       0.499995       0.165745       0.0       1.722589   \n",
       "min         0.000000       0.000000       0.000000       1.0       0.000000   \n",
       "25%         0.000000       0.000000       0.000000       1.0       1.000000   \n",
       "50%         0.000000       0.000000       0.000000       1.0       2.000000   \n",
       "75%         1.000000       1.000000       0.000000       1.0       4.000000   \n",
       "max         1.000000       1.000000       1.000000       1.0       6.000000   \n",
       "\n",
       "               month       duration     month_year  \n",
       "count  336358.000000  336358.000000  336358.000000  \n",
       "mean        5.377720       0.076334      14.713594  \n",
       "std         3.804095       0.162893       4.220533  \n",
       "min         1.000000       0.000000       1.000000  \n",
       "25%         2.000000       0.003889      13.000000  \n",
       "50%         4.000000       0.015556      15.000000  \n",
       "75%        10.000000       0.062222      16.000000  \n",
       "max        12.000000       1.000000      24.000000  "
      ]
     },
     "execution_count": 54,
     "metadata": {},
     "output_type": "execute_result"
    }
   ],
   "source": [
    "train_test_df_final.drop(['num_unique', 'day', 'year', 'dayofyear'], axis = 1).describe()"
   ]
  },
  {
   "cell_type": "markdown",
   "metadata": {},
   "source": [
    "0.94501"
   ]
  },
  {
   "cell_type": "code",
   "execution_count": 55,
   "metadata": {},
   "outputs": [],
   "source": [
    "matrix_from_kaggle2 = csr_matrix(sp.hstack([train_test_sparse, \\\n",
    "                     train_test_df_final.drop(['num_unique', 'day', 'year'], axis = 1)]))\n",
    "X_train_sparse_from_kaggle2= matrix_from_kaggle2[:train_df.shape[0],:]\n",
    "X_test_sparse_from_kaggle2 = matrix_from_kaggle2[train_df.shape[0]:,:]\n",
    "X_train_from_kaggle2 = X_train_sparse_from_kaggle2[:train_share, :]\n",
    "X_valid_from_kaggle2 = X_train_sparse_from_kaggle2[train_share:, :]"
   ]
  },
  {
   "cell_type": "code",
   "execution_count": 56,
   "metadata": {},
   "outputs": [
    {
     "data": {
      "text/plain": [
       "Ttest_relResult(statistic=-3.4928955455506716, pvalue=0.025056958103477685)"
      ]
     },
     "execution_count": 56,
     "metadata": {},
     "output_type": "execute_result"
    }
   ],
   "source": [
    "logit_scores_from_kaggle2 = cross_val_score(estimator = logit, X = X_train_from_kaggle2, \\\n",
    "                               y = y_train, cv = time_split, scoring = 'roc_auc')\n",
    "ttest_rel(logit_scores_from_kaggle, logit_scores_from_kaggle2)"
   ]
  },
  {
   "cell_type": "code",
   "execution_count": 57,
   "metadata": {},
   "outputs": [],
   "source": [
    "logit = LogisticRegression(random_state=17, n_jobs=-1, solver='liblinear')\n",
    "logit.fit(X_train_sparse_from_kaggle2, y)\n",
    "logit_test_pred_proba = logit.predict_proba(X_test_sparse_from_kaggle2)\n",
    "write_to_submission_file(logit_test_pred_proba.T[1], 'Submission')"
   ]
  },
  {
   "cell_type": "markdown",
   "metadata": {},
   "source": [
    "0.94437"
   ]
  },
  {
   "cell_type": "code",
   "execution_count": 58,
   "metadata": {},
   "outputs": [],
   "source": [
    "matrix_from_kaggle3 = csr_matrix(sp.hstack([train_test_sparse, \\\n",
    "                     train_test_df_final.drop(['num_unique', 'day', 'year', 'dayofyear', 'month'], axis = 1)]))\n",
    "X_train_sparse_from_kaggle3= matrix_from_kaggle3[:train_df.shape[0],:]\n",
    "X_test_sparse_from_kaggle3 = matrix_from_kaggle3[train_df.shape[0]:,:]\n",
    "X_train_from_kaggle3 = X_train_sparse_from_kaggle3[:train_share, :]\n",
    "X_valid_from_kaggle3 = X_train_sparse_from_kaggle3[train_share:, :]"
   ]
  },
  {
   "cell_type": "code",
   "execution_count": 59,
   "metadata": {},
   "outputs": [],
   "source": [
    "logit = LogisticRegression(random_state=17, n_jobs=-1, solver='liblinear')\n",
    "logit.fit(X_train_sparse_from_kaggle3, y)\n",
    "logit_test_pred_proba = logit.predict_proba(X_test_sparse_from_kaggle3)\n",
    "write_to_submission_file(logit_test_pred_proba.T[1], 'Submission')"
   ]
  },
  {
   "cell_type": "markdown",
   "metadata": {},
   "source": [
    "0.94433"
   ]
  },
  {
   "cell_type": "code",
   "execution_count": null,
   "metadata": {},
   "outputs": [],
   "source": []
  },
  {
   "cell_type": "code",
   "execution_count": 60,
   "metadata": {},
   "outputs": [],
   "source": [
    "logit = LogisticRegression(random_state=17, n_jobs=-1, solver='liblinear')\n",
    "logit.fit(X_train_sparse_from_kaggle, y)\n",
    "logit_test_pred_proba_from_kaggle = logit.predict_proba(X_test_sparse_from_kaggle)\n",
    "\n",
    "logit = LogisticRegression(random_state=17, n_jobs=-1, solver='liblinear')\n",
    "logit.fit(X_train_sparse_from_kaggle2, y)\n",
    "logit_test_pred_proba_from_kaggle2 = logit.predict_proba(X_test_sparse_from_kaggle2)\n",
    "\n",
    "logit = LogisticRegression(random_state=17, n_jobs=-1, solver='liblinear')\n",
    "logit.fit(X_train_sparse_from_kaggle3, y)\n",
    "logit_test_pred_proba_from_kaggle3 = logit.predict_proba(X_test_sparse_from_kaggle3)\n",
    "\n",
    "logit_test_pred_proba = 0.6*logit_test_pred_proba_from_kaggle.T[1] + 0.3*logit_test_pred_proba_from_kaggle2.T[1] + \\\n",
    "                        0.1*logit_test_pred_proba_from_kaggle3.T[1]\n",
    "\n",
    "write_to_submission_file(logit_test_pred_proba, 'Submission')"
   ]
  },
  {
   "cell_type": "markdown",
   "metadata": {},
   "source": [
    "0.94483"
   ]
  },
  {
   "cell_type": "code",
   "execution_count": 61,
   "metadata": {},
   "outputs": [],
   "source": [
    "logit = LogisticRegression(random_state=17, n_jobs=-1, solver='liblinear')\n",
    "logit.fit(X_train_sparse_from_kaggle, y)\n",
    "logit_test_pred_proba_from_kaggle = logit.predict_proba(X_test_sparse_from_kaggle)\n",
    "\n",
    "logit = LogisticRegression(random_state=17, n_jobs=-1, solver='liblinear')\n",
    "logit.fit(X_train_sparse_from_kaggle2, y)\n",
    "logit_test_pred_proba_from_kaggle2 = logit.predict_proba(X_test_sparse_from_kaggle2)\n",
    "\n",
    "logit = LogisticRegression(random_state=17, n_jobs=-1, solver='liblinear')\n",
    "logit.fit(X_train_sparse_from_kaggle3, y)\n",
    "logit_test_pred_proba_from_kaggle3 = logit.predict_proba(X_test_sparse_from_kaggle3)\n",
    "\n",
    "logit_test_pred_proba = 0.8*logit_test_pred_proba_from_kaggle.T[1] + 0.1*logit_test_pred_proba_from_kaggle2.T[1] + \\\n",
    "                        0.1*logit_test_pred_proba_from_kaggle3.T[1]\n",
    "\n",
    "write_to_submission_file(logit_test_pred_proba, 'Submission')"
   ]
  },
  {
   "cell_type": "markdown",
   "metadata": {},
   "source": [
    "0.94496"
   ]
  },
  {
   "cell_type": "code",
   "execution_count": 62,
   "metadata": {},
   "outputs": [
    {
     "ename": "IndexError",
     "evalue": "tuple index out of range",
     "output_type": "error",
     "traceback": [
      "\u001b[0;31m---------------------------------------------------------------------------\u001b[0m",
      "\u001b[0;31mIndexError\u001b[0m                                Traceback (most recent call last)",
      "\u001b[0;32m<ipython-input-62-3a3162ca6ea4>\u001b[0m in \u001b[0;36m<module>\u001b[0;34m\u001b[0m\n\u001b[1;32m      9\u001b[0m \u001b[0mmodel\u001b[0m\u001b[0;34m.\u001b[0m\u001b[0mfit\u001b[0m\u001b[0;34m(\u001b[0m\u001b[0mX_train_sparse_from_kaggle\u001b[0m\u001b[0;34m,\u001b[0m \u001b[0my\u001b[0m\u001b[0;34m)\u001b[0m\u001b[0;34m\u001b[0m\u001b[0;34m\u001b[0m\u001b[0m\n\u001b[1;32m     10\u001b[0m \u001b[0mtest_pred_proba_from_kaggle\u001b[0m \u001b[0;34m=\u001b[0m \u001b[0mmodel\u001b[0m\u001b[0;34m.\u001b[0m\u001b[0mpredict_proba\u001b[0m\u001b[0;34m(\u001b[0m\u001b[0mX_test_sparse_from_kaggle\u001b[0m\u001b[0;34m)\u001b[0m\u001b[0;34m\u001b[0m\u001b[0;34m\u001b[0m\u001b[0m\n\u001b[0;32m---> 11\u001b[0;31m \u001b[0mwrite_to_submission_file\u001b[0m\u001b[0;34m(\u001b[0m\u001b[0mlogit_test_pred_proba\u001b[0m\u001b[0;34m.\u001b[0m\u001b[0mT\u001b[0m\u001b[0;34m[\u001b[0m\u001b[0;36m1\u001b[0m\u001b[0;34m]\u001b[0m\u001b[0;34m,\u001b[0m \u001b[0;34m'Submission.csv'\u001b[0m\u001b[0;34m)\u001b[0m\u001b[0;34m\u001b[0m\u001b[0;34m\u001b[0m\u001b[0m\n\u001b[0m",
      "\u001b[0;32m<ipython-input-2-4b23e7016638>\u001b[0m in \u001b[0;36mwrite_to_submission_file\u001b[0;34m(predicted_labels, out_file, target, index_label)\u001b[0m\n\u001b[1;32m      2\u001b[0m                              target='target', index_label=\"session_id\"):\n\u001b[1;32m      3\u001b[0m     predicted_df = pd.DataFrame(predicted_labels,\n\u001b[0;32m----> 4\u001b[0;31m                                 \u001b[0mindex\u001b[0m \u001b[0;34m=\u001b[0m \u001b[0mnp\u001b[0m\u001b[0;34m.\u001b[0m\u001b[0marange\u001b[0m\u001b[0;34m(\u001b[0m\u001b[0;36m1\u001b[0m\u001b[0;34m,\u001b[0m \u001b[0mpredicted_labels\u001b[0m\u001b[0;34m.\u001b[0m\u001b[0mshape\u001b[0m\u001b[0;34m[\u001b[0m\u001b[0;36m0\u001b[0m\u001b[0;34m]\u001b[0m \u001b[0;34m+\u001b[0m \u001b[0;36m1\u001b[0m\u001b[0;34m)\u001b[0m\u001b[0;34m,\u001b[0m\u001b[0;34m\u001b[0m\u001b[0;34m\u001b[0m\u001b[0m\n\u001b[0m\u001b[1;32m      5\u001b[0m                                 columns=[target])\n\u001b[1;32m      6\u001b[0m     \u001b[0mpredicted_df\u001b[0m\u001b[0;34m.\u001b[0m\u001b[0mto_csv\u001b[0m\u001b[0;34m(\u001b[0m\u001b[0mout_file\u001b[0m\u001b[0;34m,\u001b[0m \u001b[0mindex_label\u001b[0m\u001b[0;34m=\u001b[0m\u001b[0mindex_label\u001b[0m\u001b[0;34m)\u001b[0m\u001b[0;34m\u001b[0m\u001b[0;34m\u001b[0m\u001b[0m\n",
      "\u001b[0;31mIndexError\u001b[0m: tuple index out of range"
     ]
    }
   ],
   "source": [
    "from catboost import CatBoostClassifier, Pool, cv\n",
    "from sklearn.metrics import accuracy_score\n",
    "model = CatBoostClassifier(\n",
    "    custom_loss=['Accuracy'],\n",
    "    random_seed = 42,\n",
    "    logging_level='Silent'\n",
    ")\n",
    "\n",
    "model.fit(X_train_sparse_from_kaggle, y)\n",
    "test_pred_proba_from_kaggle = model.predict_proba(X_test_sparse_from_kaggle)"
   ]
  },
  {
   "cell_type": "code",
   "execution_count": 64,
   "metadata": {},
   "outputs": [],
   "source": [
    "write_to_submission_file(test_pred_proba_from_kaggle.T[1], 'Submission.csv')"
   ]
  },
  {
   "cell_type": "markdown",
   "metadata": {},
   "source": [
    "0.88045"
   ]
  }
 ],
 "metadata": {
  "kernelspec": {
   "display_name": "Python 3",
   "language": "python",
   "name": "python3"
  },
  "language_info": {
   "codemirror_mode": {
    "name": "ipython",
    "version": 3
   },
   "file_extension": ".py",
   "mimetype": "text/x-python",
   "name": "python",
   "nbconvert_exporter": "python",
   "pygments_lexer": "ipython3",
   "version": "3.7.6"
  }
 },
 "nbformat": 4,
 "nbformat_minor": 4
}
